{
 "cells": [
  {
   "cell_type": "code",
   "execution_count": 5,
   "metadata": {},
   "outputs": [],
   "source": [
    "import os\n",
    "\n",
    "os.environ[\"OPENAI_API_TYPE\"] = \"azure\"\n",
    "os.environ[\"OPENAI_API_BASE\"] = \"\"\n",
    "os.environ[\"OPENAI_API_KEY\"] = \"\""
   ]
  },
  {
   "attachments": {},
   "cell_type": "markdown",
   "metadata": {},
   "source": [
    "# Appointment API"
   ]
  },
  {
   "cell_type": "code",
   "execution_count": 6,
   "metadata": {},
   "outputs": [],
   "source": [
    "import yaml\n",
    "from langchain.llms.openai import OpenAI\n",
    "from langchain.agents.agent_toolkits.openapi import planner\n",
    "from langchain.agents.agent_toolkits.openapi.spec import reduce_openapi_spec\n",
    "from langchain.requests import RequestsWrapper"
   ]
  },
  {
   "cell_type": "code",
   "execution_count": 7,
   "metadata": {},
   "outputs": [],
   "source": [
    "with open(\"letstalk.yml\") as f:\n",
    "    raw_lets_talk_spec = yaml.load(f, Loader=yaml.Loader)\n",
    "lets_talk_spec = reduce_openapi_spec(raw_lets_talk_spec)"
   ]
  },
  {
   "cell_type": "code",
   "execution_count": 8,
   "metadata": {},
   "outputs": [
    {
     "data": {
      "text/plain": [
       "ReducedOpenAPISpec(servers=[{'url': 'http://localhost:8081/'}], description='', endpoints=[('GET /', 'Default informative end-point running on root address', {'description': 'Default informative end-point running on root address', 'responses': {'content': {'application/json': {'schema': {}}}, 'description': 'Successful Response'}}), ('GET /api/appointment', 'List all items in the database', {'description': 'List all items in the database', 'responses': {'content': {'application/json': {'schema': {'items': {'properties': {'condition_id': {'title': 'Condition Id', 'type': 'integer'}, 'date_and_time': {'format': 'date-time', 'title': 'Date And Time', 'type': 'string'}, 'details': {'title': 'Details', 'type': 'string'}, 'id': {'title': 'Id', 'type': 'integer'}}, 'required': ['id', 'date_and_time', 'condition_id'], 'title': 'Appointment', 'type': 'object'}, 'title': 'Response List Item Api Appointment Get', 'type': 'array'}}}, 'description': 'Successful Response'}}), ('POST /api/appointment', 'Create an item in the database', {'description': 'Create an item in the database'}), ('GET /api/appointment-with-condition', 'List all items in the database and return a list of\\nnested structures with condition as a nested field', {'description': 'List all items in the database and return a list of\\nnested structures with condition as a nested field', 'responses': {'content': {'application/json': {'schema': {'items': {'properties': {'condition': {'$ref': '#/components/schemas/Condition'}, 'date_and_time': {'format': 'date-time', 'title': 'Date And Time', 'type': 'string'}, 'details': {'title': 'Details', 'type': 'string'}, 'id': {'title': 'Id', 'type': 'integer'}}, 'required': ['id', 'date_and_time', 'condition'], 'title': 'AppointmentWithConditionSerializer', 'type': 'object'}, 'title': 'Response List Item With Condition Api Appointment With Condition Get', 'type': 'array'}}}, 'description': 'Successful Response'}}), ('POST /api/appointment-with-condition', 'Create an item in the database and return\\nnested structure with condition as a nested field', {'description': 'Create an item in the database and return\\nnested structure with condition as a nested field'}), ('DELETE /api/appointment/{item_id}', 'Delete the item in the database', {'description': 'Delete the item in the database', 'parameters': [{'in': 'path', 'name': 'item_id', 'required': True, 'schema': {'title': 'Item Id', 'type': 'integer'}}]}), ('GET /api/appointment/{item_id}', 'Detail of the item in the database', {'description': 'Detail of the item in the database', 'parameters': [{'in': 'path', 'name': 'item_id', 'required': True, 'schema': {'title': 'Item Id', 'type': 'integer'}}], 'responses': {'content': {'application/json': {'schema': {'properties': {'condition_id': {'title': 'Condition Id', 'type': 'integer'}, 'date_and_time': {'format': 'date-time', 'title': 'Date And Time', 'type': 'string'}, 'details': {'title': 'Details', 'type': 'string'}, 'id': {'title': 'Id', 'type': 'integer'}}, 'required': ['id', 'date_and_time', 'condition_id'], 'title': 'Appointment', 'type': 'object'}}}, 'description': 'Successful Response'}}), ('GET /api/concern', 'List all items in the database', {'description': 'List all items in the database', 'responses': {'content': {'application/json': {'schema': {'items': {'description': 'Modify default concern serializer to restrict level', 'properties': {'condition_id': {'title': 'Condition Id', 'type': 'integer'}, 'creator': {'$ref': '#/components/schemas/ConcernCreatorEnum'}, 'details': {'title': 'Details', 'type': 'string'}, 'id': {'title': 'Id', 'type': 'integer'}, 'level': {'exclusiveMaximum': 6.0, 'exclusiveMinimum': 0.0, 'title': 'Level', 'type': 'integer'}, 'symptoms': {'title': 'Symptoms', 'type': 'string'}}, 'required': ['id', 'creator', 'symptoms', 'level', 'condition_id'], 'title': 'ConcernSerializer', 'type': 'object'}, 'title': 'Response List Item Api Concern Get', 'type': 'array'}}}, 'description': 'Successful Response'}}), ('POST /api/concern', 'Create an item in the database', {'description': 'Create an item in the database'}), ('GET /api/concern-with-condition', 'List all items in the database and return a list of\\nnested structures with condition as a nested field', {'description': 'List all items in the database and return a list of\\nnested structures with condition as a nested field', 'responses': {'content': {'application/json': {'schema': {'items': {'description': 'Modify default concern serializer to restrict level', 'properties': {'condition': {'$ref': '#/components/schemas/Condition'}, 'creator': {'$ref': '#/components/schemas/ConcernCreatorEnum'}, 'details': {'title': 'Details', 'type': 'string'}, 'id': {'title': 'Id', 'type': 'integer'}, 'level': {'exclusiveMaximum': 6.0, 'exclusiveMinimum': 0.0, 'title': 'Level', 'type': 'integer'}, 'symptoms': {'title': 'Symptoms', 'type': 'string'}}, 'required': ['id', 'creator', 'symptoms', 'level', 'condition'], 'title': 'ConcernWithConditionSerializer', 'type': 'object'}, 'title': 'Response List Item With Condition Api Concern With Condition Get', 'type': 'array'}}}, 'description': 'Successful Response'}}), ('POST /api/concern-with-condition', 'Create an item in the database and return\\nnested structure with condition as a nested field', {'description': 'Create an item in the database and return\\nnested structure with condition as a nested field'}), ('DELETE /api/concern/{item_id}', 'Delete the item in the database', {'description': 'Delete the item in the database', 'parameters': [{'in': 'path', 'name': 'item_id', 'required': True, 'schema': {'title': 'Item Id', 'type': 'integer'}}]}), ('GET /api/concern/{item_id}', 'Detail of the item in the database', {'description': 'Detail of the item in the database', 'parameters': [{'in': 'path', 'name': 'item_id', 'required': True, 'schema': {'title': 'Item Id', 'type': 'integer'}}], 'responses': {'content': {'application/json': {'schema': {'description': 'Modify default concern serializer to restrict level', 'properties': {'condition_id': {'title': 'Condition Id', 'type': 'integer'}, 'creator': {'$ref': '#/components/schemas/ConcernCreatorEnum'}, 'details': {'title': 'Details', 'type': 'string'}, 'id': {'title': 'Id', 'type': 'integer'}, 'level': {'exclusiveMaximum': 6.0, 'exclusiveMinimum': 0.0, 'title': 'Level', 'type': 'integer'}, 'symptoms': {'title': 'Symptoms', 'type': 'string'}}, 'required': ['id', 'creator', 'symptoms', 'level', 'condition_id'], 'title': 'ConcernSerializer', 'type': 'object'}}}, 'description': 'Successful Response'}}), ('GET /api/condition', 'List all items in the database', {'description': 'List all items in the database', 'responses': {'content': {'application/json': {'schema': {'items': {'properties': {'details': {'title': 'Details', 'type': 'string'}, 'doctor_id': {'title': 'Doctor Id', 'type': 'integer'}, 'duration': {'title': 'Duration', 'type': 'string'}, 'id': {'title': 'Id', 'type': 'integer'}, 'name': {'title': 'Name', 'type': 'string'}}, 'required': ['id', 'name', 'duration', 'doctor_id'], 'title': 'Condition', 'type': 'object'}, 'title': 'Response List Item Api Condition Get', 'type': 'array'}}}, 'description': 'Successful Response'}}), ('POST /api/condition', 'Create an item in the database', {'description': 'Create an item in the database'}), ('GET /api/condition-with-doctor', \"Return nested dict without doctor_id but as nested\\ndict for 'doctor' key (presenting the whole Doctor object).\", {'description': \"Return nested dict without doctor_id but as nested\\ndict for 'doctor' key (presenting the whole Doctor object).\", 'responses': {'content': {'application/json': {'schema': {'items': {'properties': {'details': {'title': 'Details', 'type': 'string'}, 'doctor': {'$ref': '#/components/schemas/Doctor'}, 'duration': {'title': 'Duration', 'type': 'string'}, 'id': {'title': 'Id', 'type': 'integer'}, 'name': {'title': 'Name', 'type': 'string'}}, 'required': ['id', 'name', 'duration', 'doctor'], 'title': 'ConditionDoctorNestedSerializer', 'type': 'object'}, 'title': 'Response List Doctor And Condition Api Condition With Doctor Get', 'type': 'array'}}}, 'description': 'Successful Response'}}), ('POST /api/condition-with-doctor', 'Create both doctor and condition in one call', {'description': 'Create both doctor and condition in one call'}), ('DELETE /api/condition/{item_id}', 'Delete the item in the database', {'description': 'Delete the item in the database', 'parameters': [{'in': 'path', 'name': 'item_id', 'required': True, 'schema': {'title': 'Item Id', 'type': 'integer'}}]}), ('GET /api/condition/{item_id}', 'Detail of the item in the database', {'description': 'Detail of the item in the database', 'parameters': [{'in': 'path', 'name': 'item_id', 'required': True, 'schema': {'title': 'Item Id', 'type': 'integer'}}], 'responses': {'content': {'application/json': {'schema': {'properties': {'details': {'title': 'Details', 'type': 'string'}, 'doctor_id': {'title': 'Doctor Id', 'type': 'integer'}, 'duration': {'title': 'Duration', 'type': 'string'}, 'id': {'title': 'Id', 'type': 'integer'}, 'name': {'title': 'Name', 'type': 'string'}}, 'required': ['id', 'name', 'duration', 'doctor_id'], 'title': 'Condition', 'type': 'object'}}}, 'description': 'Successful Response'}}), ('GET /api/doctor', 'List all items in the database', {'description': 'List all items in the database', 'responses': {'content': {'application/json': {'schema': {'items': {'properties': {'id': {'title': 'Id', 'type': 'integer'}, 'name': {'title': 'Name', 'type': 'string'}, 'specialism': {'title': 'Specialism', 'type': 'string'}}, 'required': ['id', 'name', 'specialism'], 'title': 'Doctor', 'type': 'object'}, 'title': 'Response List Item Api Doctor Get', 'type': 'array'}}}, 'description': 'Successful Response'}}), ('POST /api/doctor', 'Create an item in the database', {'description': 'Create an item in the database'}), ('DELETE /api/doctor/{item_id}', 'Delete the item in the database', {'description': 'Delete the item in the database', 'parameters': [{'in': 'path', 'name': 'item_id', 'required': True, 'schema': {'title': 'Item Id', 'type': 'integer'}}]}), ('GET /api/doctor/{item_id}', 'Detail of the item in the database', {'description': 'Detail of the item in the database', 'parameters': [{'in': 'path', 'name': 'item_id', 'required': True, 'schema': {'title': 'Item Id', 'type': 'integer'}}], 'responses': {'content': {'application/json': {'schema': {'properties': {'id': {'title': 'Id', 'type': 'integer'}, 'name': {'title': 'Name', 'type': 'string'}, 'specialism': {'title': 'Specialism', 'type': 'string'}}, 'required': ['id', 'name', 'specialism'], 'title': 'Doctor', 'type': 'object'}}}, 'description': 'Successful Response'}}), ('GET /api/expectation', 'List all items in the database', {'description': 'List all items in the database', 'responses': {'content': {'application/json': {'schema': {'items': {'properties': {'condition_id': {'title': 'Condition Id', 'type': 'integer'}, 'details': {'title': 'Details', 'type': 'string'}, 'id': {'title': 'Id', 'type': 'integer'}, 'name': {'title': 'Name', 'type': 'string'}}, 'required': ['id', 'name', 'condition_id'], 'title': 'Expectation', 'type': 'object'}, 'title': 'Response List Item Api Expectation Get', 'type': 'array'}}}, 'description': 'Successful Response'}}), ('POST /api/expectation', 'Create an item in the database', {'description': 'Create an item in the database'}), ('GET /api/expectation-with-condition', 'List all items in the database and return a list of\\nnested structures with condition as a nested field', {'description': 'List all items in the database and return a list of\\nnested structures with condition as a nested field', 'responses': {'content': {'application/json': {'schema': {'items': {'properties': {'condition': {'$ref': '#/components/schemas/Condition'}, 'details': {'title': 'Details', 'type': 'string'}, 'id': {'title': 'Id', 'type': 'integer'}, 'name': {'title': 'Name', 'type': 'string'}}, 'required': ['id', 'name', 'condition'], 'title': 'ExpectationWithConditionSerializer', 'type': 'object'}, 'title': 'Response List Item With Condition Api Expectation With Condition Get', 'type': 'array'}}}, 'description': 'Successful Response'}}), ('POST /api/expectation-with-condition', 'Create an item in the database and return\\nnested structure with condition as a nested field', {'description': 'Create an item in the database and return\\nnested structure with condition as a nested field'}), ('DELETE /api/expectation/{item_id}', 'Delete the item in the database', {'description': 'Delete the item in the database', 'parameters': [{'in': 'path', 'name': 'item_id', 'required': True, 'schema': {'title': 'Item Id', 'type': 'integer'}}]}), ('GET /api/expectation/{item_id}', 'Detail of the item in the database', {'description': 'Detail of the item in the database', 'parameters': [{'in': 'path', 'name': 'item_id', 'required': True, 'schema': {'title': 'Item Id', 'type': 'integer'}}], 'responses': {'content': {'application/json': {'schema': {'properties': {'condition_id': {'title': 'Condition Id', 'type': 'integer'}, 'details': {'title': 'Details', 'type': 'string'}, 'id': {'title': 'Id', 'type': 'integer'}, 'name': {'title': 'Name', 'type': 'string'}}, 'required': ['id', 'name', 'condition_id'], 'title': 'Expectation', 'type': 'object'}}}, 'description': 'Successful Response'}})])"
      ]
     },
     "execution_count": 8,
     "metadata": {},
     "output_type": "execute_result"
    }
   ],
   "source": [
    "lets_talk_spec"
   ]
  },
  {
   "cell_type": "code",
   "execution_count": 9,
   "metadata": {},
   "outputs": [],
   "source": [
    "requests_wrapper = RequestsWrapper(headers={})"
   ]
  },
  {
   "cell_type": "code",
   "execution_count": 10,
   "metadata": {},
   "outputs": [
    {
     "name": "stderr",
     "output_type": "stream",
     "text": [
      "WARNING! engine is not default parameter.\n",
      "                    engine was transferred to model_kwargs.\n",
      "                    Please confirm that engine is what you intended.\n"
     ]
    }
   ],
   "source": [
    "llm = OpenAI(engine=\"text-davinci-003\", temperature=0.0)"
   ]
  },
  {
   "cell_type": "code",
   "execution_count": 11,
   "metadata": {},
   "outputs": [],
   "source": [
    "letstalk_agent = planner.create_openapi_agent(lets_talk_spec, requests_wrapper, llm)\n"
   ]
  },
  {
   "cell_type": "code",
   "execution_count": null,
   "metadata": {},
   "outputs": [],
   "source": [
    "letstalk_agent.run(\"list all available doctors\")"
   ]
  },
  {
   "cell_type": "code",
   "execution_count": null,
   "metadata": {},
   "outputs": [],
   "source": [
    "letstalk_agent.run(\"create a doctor named Menedoctor da Silva with specialty in cardiology\")"
   ]
  },
  {
   "attachments": {},
   "cell_type": "markdown",
   "metadata": {},
   "source": [
    "# QA Agent"
   ]
  },
  {
   "cell_type": "code",
   "execution_count": 13,
   "metadata": {},
   "outputs": [],
   "source": [
    "with open(\"qa_system.yml\") as f:\n",
    "    raw_qa_spec = yaml.load(f, Loader=yaml.Loader)\n",
    "qa_spec = reduce_openapi_spec(raw_qa_spec)"
   ]
  },
  {
   "cell_type": "code",
   "execution_count": 24,
   "metadata": {},
   "outputs": [
    {
     "data": {
      "text/plain": [
       "ReducedOpenAPISpec(servers=[{'url': 'http://localhost:8000/'}], description='', endpoints=[('GET /', None, {'responses': {'content': {'application/json': {'schema': {}}}, 'description': 'Successful Response'}}), ('POST /ask', 'Gets a user query as input and use it to answer a question usar a knowledge base as reference', {'description': 'Gets a user query as input and use it to answer a question usar a knowledge base as reference', 'parameters': [{'in': 'query', 'name': 'query', 'required': True, 'schema': {'title': 'Query', 'type': 'string'}}], 'responses': {'content': {'application/json': {'schema': {}}}, 'description': 'Successful Response'}})])"
      ]
     },
     "execution_count": 24,
     "metadata": {},
     "output_type": "execute_result"
    }
   ],
   "source": [
    "qa_spec"
   ]
  },
  {
   "cell_type": "code",
   "execution_count": 14,
   "metadata": {},
   "outputs": [],
   "source": [
    "qa_agent = planner.create_openapi_agent(qa_spec, requests_wrapper, llm)\n"
   ]
  },
  {
   "attachments": {},
   "cell_type": "markdown",
   "metadata": {},
   "source": [
    "# Agent"
   ]
  },
  {
   "cell_type": "code",
   "execution_count": 16,
   "metadata": {},
   "outputs": [],
   "source": [
    "from langchain.agents import AgentType, initialize_agent\n",
    "from langchain.chat_models import ChatOpenAI\n",
    "from langchain.tools import BaseTool, StructuredTool, Tool, tool"
   ]
  },
  {
   "cell_type": "code",
   "execution_count": 17,
   "metadata": {},
   "outputs": [
    {
     "name": "stderr",
     "output_type": "stream",
     "text": [
      "WARNING! engine is not default parameter.\n",
      "                    engine was transferred to model_kwargs.\n",
      "                    Please confirm that engine is what you intended.\n"
     ]
    }
   ],
   "source": [
    "llm = ChatOpenAI(engine='gpt-35-turbo', temperature=0)"
   ]
  },
  {
   "cell_type": "code",
   "execution_count": 18,
   "metadata": {},
   "outputs": [],
   "source": [
    "tools = [\n",
    "    Tool.from_function(\n",
    "        func=letstalk_agent.run,\n",
    "        name = \"Lets Talk API\",\n",
    "        description=\"useful for when you need to manipulate a database that has data about appointments with doctors\"\n",
    "    ),\n",
    "    Tool.from_function(\n",
    "        func=qa_agent.run,\n",
    "        name = \"QA System\",\n",
    "        description=\"useful for when a user has questions about a knowledge base\"\n",
    "    ),\n",
    "]"
   ]
  },
  {
   "cell_type": "code",
   "execution_count": 19,
   "metadata": {},
   "outputs": [],
   "source": [
    "agent = initialize_agent(tools, llm, agent=AgentType.ZERO_SHOT_REACT_DESCRIPTION, verbose=True)"
   ]
  },
  {
   "cell_type": "code",
   "execution_count": 23,
   "metadata": {},
   "outputs": [
    {
     "name": "stdout",
     "output_type": "stream",
     "text": [
      "\n",
      "\n",
      "\u001b[1m> Entering new AgentExecutor chain...\u001b[0m\n",
      "\u001b[32;1m\u001b[1;3mI'm not sure what the context is or what the person is asking for specifically.\n",
      "Action: QA System\n",
      "Action Input: \"What should I do to prepare for guests coming over?\"\u001b[0m\n",
      "\n",
      "\u001b[1m> Entering new AgentExecutor chain...\u001b[0m\n",
      "\u001b[32;1m\u001b[1;3mAction: api_planner\n",
      "Action Input: I need to find the right API calls to prepare for guests coming over\u001b[0m\n",
      "Observation: \u001b[36;1m\u001b[1;3m 1. GET /ask with a query param to search for information about preparing for guests\n",
      "2. GET /user to find the user's id\n",
      "3. POST /users/{id}/prepare to add the necessary items to the user's cart\n",
      "4. PATCH /users/{id}/prepare to update the user's cart with any additional items needed\u001b[0m\n",
      "Thought:\u001b[32;1m\u001b[1;3m I'm ready to execute the API calls.\n",
      "Action: api_controller\n",
      "Action Input: 1. GET /ask with a query param to search for information about preparing for guests\n",
      "2. GET /user to find the user's id\n",
      "3. POST /users/{id}/prepare to add the necessary items to the user's cart\n",
      "4. PATCH /users/{id}/prepare to update the user's cart with any additional items needed\u001b[0m"
     ]
    },
    {
     "ename": "ValueError",
     "evalue": "GET /ask endpoint does not exist.",
     "output_type": "error",
     "traceback": [
      "\u001b[0;31m---------------------------------------------------------------------------\u001b[0m",
      "\u001b[0;31mValueError\u001b[0m                                Traceback (most recent call last)",
      "\u001b[1;32m/home/amenegola/langchain_demo/agent/agent.ipynb Cell 19\u001b[0m in \u001b[0;36m<cell line: 1>\u001b[0;34m()\u001b[0m\n\u001b[0;32m----> <a href='vscode-notebook-cell://wsl%2Bubuntu/home/amenegola/langchain_demo/agent/agent.ipynb#X24sdnNjb2RlLXJlbW90ZQ%3D%3D?line=0'>1</a>\u001b[0m agent\u001b[39m.\u001b[39;49mrun(\u001b[39m\"\u001b[39;49m\u001b[39mEu preciso fazer alguma coisa pra receber vocês em casa?\u001b[39;49m\u001b[39m\"\u001b[39;49m)\n",
      "File \u001b[0;32m~/miniconda3/lib/python3.8/site-packages/langchain/chains/base.py:236\u001b[0m, in \u001b[0;36mChain.run\u001b[0;34m(self, callbacks, *args, **kwargs)\u001b[0m\n\u001b[1;32m    234\u001b[0m     \u001b[39mif\u001b[39;00m \u001b[39mlen\u001b[39m(args) \u001b[39m!=\u001b[39m \u001b[39m1\u001b[39m:\n\u001b[1;32m    235\u001b[0m         \u001b[39mraise\u001b[39;00m \u001b[39mValueError\u001b[39;00m(\u001b[39m\"\u001b[39m\u001b[39m`run` supports only one positional argument.\u001b[39m\u001b[39m\"\u001b[39m)\n\u001b[0;32m--> 236\u001b[0m     \u001b[39mreturn\u001b[39;00m \u001b[39mself\u001b[39;49m(args[\u001b[39m0\u001b[39;49m], callbacks\u001b[39m=\u001b[39;49mcallbacks)[\u001b[39mself\u001b[39m\u001b[39m.\u001b[39moutput_keys[\u001b[39m0\u001b[39m]]\n\u001b[1;32m    238\u001b[0m \u001b[39mif\u001b[39;00m kwargs \u001b[39mand\u001b[39;00m \u001b[39mnot\u001b[39;00m args:\n\u001b[1;32m    239\u001b[0m     \u001b[39mreturn\u001b[39;00m \u001b[39mself\u001b[39m(kwargs, callbacks\u001b[39m=\u001b[39mcallbacks)[\u001b[39mself\u001b[39m\u001b[39m.\u001b[39moutput_keys[\u001b[39m0\u001b[39m]]\n",
      "File \u001b[0;32m~/miniconda3/lib/python3.8/site-packages/langchain/chains/base.py:140\u001b[0m, in \u001b[0;36mChain.__call__\u001b[0;34m(self, inputs, return_only_outputs, callbacks)\u001b[0m\n\u001b[1;32m    138\u001b[0m \u001b[39mexcept\u001b[39;00m (\u001b[39mKeyboardInterrupt\u001b[39;00m, \u001b[39mException\u001b[39;00m) \u001b[39mas\u001b[39;00m e:\n\u001b[1;32m    139\u001b[0m     run_manager\u001b[39m.\u001b[39mon_chain_error(e)\n\u001b[0;32m--> 140\u001b[0m     \u001b[39mraise\u001b[39;00m e\n\u001b[1;32m    141\u001b[0m run_manager\u001b[39m.\u001b[39mon_chain_end(outputs)\n\u001b[1;32m    142\u001b[0m \u001b[39mreturn\u001b[39;00m \u001b[39mself\u001b[39m\u001b[39m.\u001b[39mprep_outputs(inputs, outputs, return_only_outputs)\n",
      "File \u001b[0;32m~/miniconda3/lib/python3.8/site-packages/langchain/chains/base.py:134\u001b[0m, in \u001b[0;36mChain.__call__\u001b[0;34m(self, inputs, return_only_outputs, callbacks)\u001b[0m\n\u001b[1;32m    128\u001b[0m run_manager \u001b[39m=\u001b[39m callback_manager\u001b[39m.\u001b[39mon_chain_start(\n\u001b[1;32m    129\u001b[0m     {\u001b[39m\"\u001b[39m\u001b[39mname\u001b[39m\u001b[39m\"\u001b[39m: \u001b[39mself\u001b[39m\u001b[39m.\u001b[39m\u001b[39m__class__\u001b[39m\u001b[39m.\u001b[39m\u001b[39m__name__\u001b[39m},\n\u001b[1;32m    130\u001b[0m     inputs,\n\u001b[1;32m    131\u001b[0m )\n\u001b[1;32m    132\u001b[0m \u001b[39mtry\u001b[39;00m:\n\u001b[1;32m    133\u001b[0m     outputs \u001b[39m=\u001b[39m (\n\u001b[0;32m--> 134\u001b[0m         \u001b[39mself\u001b[39;49m\u001b[39m.\u001b[39;49m_call(inputs, run_manager\u001b[39m=\u001b[39;49mrun_manager)\n\u001b[1;32m    135\u001b[0m         \u001b[39mif\u001b[39;00m new_arg_supported\n\u001b[1;32m    136\u001b[0m         \u001b[39melse\u001b[39;00m \u001b[39mself\u001b[39m\u001b[39m.\u001b[39m_call(inputs)\n\u001b[1;32m    137\u001b[0m     )\n\u001b[1;32m    138\u001b[0m \u001b[39mexcept\u001b[39;00m (\u001b[39mKeyboardInterrupt\u001b[39;00m, \u001b[39mException\u001b[39;00m) \u001b[39mas\u001b[39;00m e:\n\u001b[1;32m    139\u001b[0m     run_manager\u001b[39m.\u001b[39mon_chain_error(e)\n",
      "File \u001b[0;32m~/miniconda3/lib/python3.8/site-packages/langchain/agents/agent.py:905\u001b[0m, in \u001b[0;36mAgentExecutor._call\u001b[0;34m(self, inputs, run_manager)\u001b[0m\n\u001b[1;32m    903\u001b[0m \u001b[39m# We now enter the agent loop (until it returns something).\u001b[39;00m\n\u001b[1;32m    904\u001b[0m \u001b[39mwhile\u001b[39;00m \u001b[39mself\u001b[39m\u001b[39m.\u001b[39m_should_continue(iterations, time_elapsed):\n\u001b[0;32m--> 905\u001b[0m     next_step_output \u001b[39m=\u001b[39m \u001b[39mself\u001b[39;49m\u001b[39m.\u001b[39;49m_take_next_step(\n\u001b[1;32m    906\u001b[0m         name_to_tool_map,\n\u001b[1;32m    907\u001b[0m         color_mapping,\n\u001b[1;32m    908\u001b[0m         inputs,\n\u001b[1;32m    909\u001b[0m         intermediate_steps,\n\u001b[1;32m    910\u001b[0m         run_manager\u001b[39m=\u001b[39;49mrun_manager,\n\u001b[1;32m    911\u001b[0m     )\n\u001b[1;32m    912\u001b[0m     \u001b[39mif\u001b[39;00m \u001b[39misinstance\u001b[39m(next_step_output, AgentFinish):\n\u001b[1;32m    913\u001b[0m         \u001b[39mreturn\u001b[39;00m \u001b[39mself\u001b[39m\u001b[39m.\u001b[39m_return(\n\u001b[1;32m    914\u001b[0m             next_step_output, intermediate_steps, run_manager\u001b[39m=\u001b[39mrun_manager\n\u001b[1;32m    915\u001b[0m         )\n",
      "File \u001b[0;32m~/miniconda3/lib/python3.8/site-packages/langchain/agents/agent.py:783\u001b[0m, in \u001b[0;36mAgentExecutor._take_next_step\u001b[0;34m(self, name_to_tool_map, color_mapping, inputs, intermediate_steps, run_manager)\u001b[0m\n\u001b[1;32m    781\u001b[0m         tool_run_kwargs[\u001b[39m\"\u001b[39m\u001b[39mllm_prefix\u001b[39m\u001b[39m\"\u001b[39m] \u001b[39m=\u001b[39m \u001b[39m\"\u001b[39m\u001b[39m\"\u001b[39m\n\u001b[1;32m    782\u001b[0m     \u001b[39m# We then call the tool on the tool input to get an observation\u001b[39;00m\n\u001b[0;32m--> 783\u001b[0m     observation \u001b[39m=\u001b[39m tool\u001b[39m.\u001b[39;49mrun(\n\u001b[1;32m    784\u001b[0m         agent_action\u001b[39m.\u001b[39;49mtool_input,\n\u001b[1;32m    785\u001b[0m         verbose\u001b[39m=\u001b[39;49m\u001b[39mself\u001b[39;49m\u001b[39m.\u001b[39;49mverbose,\n\u001b[1;32m    786\u001b[0m         color\u001b[39m=\u001b[39;49mcolor,\n\u001b[1;32m    787\u001b[0m         callbacks\u001b[39m=\u001b[39;49mrun_manager\u001b[39m.\u001b[39;49mget_child() \u001b[39mif\u001b[39;49;00m run_manager \u001b[39melse\u001b[39;49;00m \u001b[39mNone\u001b[39;49;00m,\n\u001b[1;32m    788\u001b[0m         \u001b[39m*\u001b[39;49m\u001b[39m*\u001b[39;49mtool_run_kwargs,\n\u001b[1;32m    789\u001b[0m     )\n\u001b[1;32m    790\u001b[0m \u001b[39melse\u001b[39;00m:\n\u001b[1;32m    791\u001b[0m     tool_run_kwargs \u001b[39m=\u001b[39m \u001b[39mself\u001b[39m\u001b[39m.\u001b[39magent\u001b[39m.\u001b[39mtool_run_logging_kwargs()\n",
      "File \u001b[0;32m~/miniconda3/lib/python3.8/site-packages/langchain/tools/base.py:255\u001b[0m, in \u001b[0;36mBaseTool.run\u001b[0;34m(self, tool_input, verbose, start_color, color, callbacks, **kwargs)\u001b[0m\n\u001b[1;32m    253\u001b[0m \u001b[39mexcept\u001b[39;00m (\u001b[39mException\u001b[39;00m, \u001b[39mKeyboardInterrupt\u001b[39;00m) \u001b[39mas\u001b[39;00m e:\n\u001b[1;32m    254\u001b[0m     run_manager\u001b[39m.\u001b[39mon_tool_error(e)\n\u001b[0;32m--> 255\u001b[0m     \u001b[39mraise\u001b[39;00m e\n\u001b[1;32m    256\u001b[0m run_manager\u001b[39m.\u001b[39mon_tool_end(\u001b[39mstr\u001b[39m(observation), color\u001b[39m=\u001b[39mcolor, name\u001b[39m=\u001b[39m\u001b[39mself\u001b[39m\u001b[39m.\u001b[39mname, \u001b[39m*\u001b[39m\u001b[39m*\u001b[39mkwargs)\n\u001b[1;32m    257\u001b[0m \u001b[39mreturn\u001b[39;00m observation\n",
      "File \u001b[0;32m~/miniconda3/lib/python3.8/site-packages/langchain/tools/base.py:249\u001b[0m, in \u001b[0;36mBaseTool.run\u001b[0;34m(self, tool_input, verbose, start_color, color, callbacks, **kwargs)\u001b[0m\n\u001b[1;32m    246\u001b[0m \u001b[39mtry\u001b[39;00m:\n\u001b[1;32m    247\u001b[0m     tool_args, tool_kwargs \u001b[39m=\u001b[39m \u001b[39mself\u001b[39m\u001b[39m.\u001b[39m_to_args_and_kwargs(parsed_input)\n\u001b[1;32m    248\u001b[0m     observation \u001b[39m=\u001b[39m (\n\u001b[0;32m--> 249\u001b[0m         \u001b[39mself\u001b[39;49m\u001b[39m.\u001b[39;49m_run(\u001b[39m*\u001b[39;49mtool_args, run_manager\u001b[39m=\u001b[39;49mrun_manager, \u001b[39m*\u001b[39;49m\u001b[39m*\u001b[39;49mtool_kwargs)\n\u001b[1;32m    250\u001b[0m         \u001b[39mif\u001b[39;00m new_arg_supported\n\u001b[1;32m    251\u001b[0m         \u001b[39melse\u001b[39;00m \u001b[39mself\u001b[39m\u001b[39m.\u001b[39m_run(\u001b[39m*\u001b[39mtool_args, \u001b[39m*\u001b[39m\u001b[39m*\u001b[39mtool_kwargs)\n\u001b[1;32m    252\u001b[0m     )\n\u001b[1;32m    253\u001b[0m \u001b[39mexcept\u001b[39;00m (\u001b[39mException\u001b[39;00m, \u001b[39mKeyboardInterrupt\u001b[39;00m) \u001b[39mas\u001b[39;00m e:\n\u001b[1;32m    254\u001b[0m     run_manager\u001b[39m.\u001b[39mon_tool_error(e)\n",
      "File \u001b[0;32m~/miniconda3/lib/python3.8/site-packages/langchain/tools/base.py:344\u001b[0m, in \u001b[0;36mTool._run\u001b[0;34m(self, run_manager, *args, **kwargs)\u001b[0m\n\u001b[1;32m    341\u001b[0m \u001b[39m\"\"\"Use the tool.\"\"\"\u001b[39;00m\n\u001b[1;32m    342\u001b[0m new_argument_supported \u001b[39m=\u001b[39m signature(\u001b[39mself\u001b[39m\u001b[39m.\u001b[39mfunc)\u001b[39m.\u001b[39mparameters\u001b[39m.\u001b[39mget(\u001b[39m\"\u001b[39m\u001b[39mcallbacks\u001b[39m\u001b[39m\"\u001b[39m)\n\u001b[1;32m    343\u001b[0m \u001b[39mreturn\u001b[39;00m (\n\u001b[0;32m--> 344\u001b[0m     \u001b[39mself\u001b[39;49m\u001b[39m.\u001b[39;49mfunc(\n\u001b[1;32m    345\u001b[0m         \u001b[39m*\u001b[39;49margs,\n\u001b[1;32m    346\u001b[0m         callbacks\u001b[39m=\u001b[39;49mrun_manager\u001b[39m.\u001b[39;49mget_child() \u001b[39mif\u001b[39;49;00m run_manager \u001b[39melse\u001b[39;49;00m \u001b[39mNone\u001b[39;49;00m,\n\u001b[1;32m    347\u001b[0m         \u001b[39m*\u001b[39;49m\u001b[39m*\u001b[39;49mkwargs,\n\u001b[1;32m    348\u001b[0m     )\n\u001b[1;32m    349\u001b[0m     \u001b[39mif\u001b[39;00m new_argument_supported\n\u001b[1;32m    350\u001b[0m     \u001b[39melse\u001b[39;00m \u001b[39mself\u001b[39m\u001b[39m.\u001b[39mfunc(\u001b[39m*\u001b[39margs, \u001b[39m*\u001b[39m\u001b[39m*\u001b[39mkwargs)\n\u001b[1;32m    351\u001b[0m )\n",
      "File \u001b[0;32m~/miniconda3/lib/python3.8/site-packages/langchain/chains/base.py:236\u001b[0m, in \u001b[0;36mChain.run\u001b[0;34m(self, callbacks, *args, **kwargs)\u001b[0m\n\u001b[1;32m    234\u001b[0m     \u001b[39mif\u001b[39;00m \u001b[39mlen\u001b[39m(args) \u001b[39m!=\u001b[39m \u001b[39m1\u001b[39m:\n\u001b[1;32m    235\u001b[0m         \u001b[39mraise\u001b[39;00m \u001b[39mValueError\u001b[39;00m(\u001b[39m\"\u001b[39m\u001b[39m`run` supports only one positional argument.\u001b[39m\u001b[39m\"\u001b[39m)\n\u001b[0;32m--> 236\u001b[0m     \u001b[39mreturn\u001b[39;00m \u001b[39mself\u001b[39;49m(args[\u001b[39m0\u001b[39;49m], callbacks\u001b[39m=\u001b[39;49mcallbacks)[\u001b[39mself\u001b[39m\u001b[39m.\u001b[39moutput_keys[\u001b[39m0\u001b[39m]]\n\u001b[1;32m    238\u001b[0m \u001b[39mif\u001b[39;00m kwargs \u001b[39mand\u001b[39;00m \u001b[39mnot\u001b[39;00m args:\n\u001b[1;32m    239\u001b[0m     \u001b[39mreturn\u001b[39;00m \u001b[39mself\u001b[39m(kwargs, callbacks\u001b[39m=\u001b[39mcallbacks)[\u001b[39mself\u001b[39m\u001b[39m.\u001b[39moutput_keys[\u001b[39m0\u001b[39m]]\n",
      "File \u001b[0;32m~/miniconda3/lib/python3.8/site-packages/langchain/chains/base.py:140\u001b[0m, in \u001b[0;36mChain.__call__\u001b[0;34m(self, inputs, return_only_outputs, callbacks)\u001b[0m\n\u001b[1;32m    138\u001b[0m \u001b[39mexcept\u001b[39;00m (\u001b[39mKeyboardInterrupt\u001b[39;00m, \u001b[39mException\u001b[39;00m) \u001b[39mas\u001b[39;00m e:\n\u001b[1;32m    139\u001b[0m     run_manager\u001b[39m.\u001b[39mon_chain_error(e)\n\u001b[0;32m--> 140\u001b[0m     \u001b[39mraise\u001b[39;00m e\n\u001b[1;32m    141\u001b[0m run_manager\u001b[39m.\u001b[39mon_chain_end(outputs)\n\u001b[1;32m    142\u001b[0m \u001b[39mreturn\u001b[39;00m \u001b[39mself\u001b[39m\u001b[39m.\u001b[39mprep_outputs(inputs, outputs, return_only_outputs)\n",
      "File \u001b[0;32m~/miniconda3/lib/python3.8/site-packages/langchain/chains/base.py:134\u001b[0m, in \u001b[0;36mChain.__call__\u001b[0;34m(self, inputs, return_only_outputs, callbacks)\u001b[0m\n\u001b[1;32m    128\u001b[0m run_manager \u001b[39m=\u001b[39m callback_manager\u001b[39m.\u001b[39mon_chain_start(\n\u001b[1;32m    129\u001b[0m     {\u001b[39m\"\u001b[39m\u001b[39mname\u001b[39m\u001b[39m\"\u001b[39m: \u001b[39mself\u001b[39m\u001b[39m.\u001b[39m\u001b[39m__class__\u001b[39m\u001b[39m.\u001b[39m\u001b[39m__name__\u001b[39m},\n\u001b[1;32m    130\u001b[0m     inputs,\n\u001b[1;32m    131\u001b[0m )\n\u001b[1;32m    132\u001b[0m \u001b[39mtry\u001b[39;00m:\n\u001b[1;32m    133\u001b[0m     outputs \u001b[39m=\u001b[39m (\n\u001b[0;32m--> 134\u001b[0m         \u001b[39mself\u001b[39;49m\u001b[39m.\u001b[39;49m_call(inputs, run_manager\u001b[39m=\u001b[39;49mrun_manager)\n\u001b[1;32m    135\u001b[0m         \u001b[39mif\u001b[39;00m new_arg_supported\n\u001b[1;32m    136\u001b[0m         \u001b[39melse\u001b[39;00m \u001b[39mself\u001b[39m\u001b[39m.\u001b[39m_call(inputs)\n\u001b[1;32m    137\u001b[0m     )\n\u001b[1;32m    138\u001b[0m \u001b[39mexcept\u001b[39;00m (\u001b[39mKeyboardInterrupt\u001b[39;00m, \u001b[39mException\u001b[39;00m) \u001b[39mas\u001b[39;00m e:\n\u001b[1;32m    139\u001b[0m     run_manager\u001b[39m.\u001b[39mon_chain_error(e)\n",
      "File \u001b[0;32m~/miniconda3/lib/python3.8/site-packages/langchain/agents/agent.py:905\u001b[0m, in \u001b[0;36mAgentExecutor._call\u001b[0;34m(self, inputs, run_manager)\u001b[0m\n\u001b[1;32m    903\u001b[0m \u001b[39m# We now enter the agent loop (until it returns something).\u001b[39;00m\n\u001b[1;32m    904\u001b[0m \u001b[39mwhile\u001b[39;00m \u001b[39mself\u001b[39m\u001b[39m.\u001b[39m_should_continue(iterations, time_elapsed):\n\u001b[0;32m--> 905\u001b[0m     next_step_output \u001b[39m=\u001b[39m \u001b[39mself\u001b[39;49m\u001b[39m.\u001b[39;49m_take_next_step(\n\u001b[1;32m    906\u001b[0m         name_to_tool_map,\n\u001b[1;32m    907\u001b[0m         color_mapping,\n\u001b[1;32m    908\u001b[0m         inputs,\n\u001b[1;32m    909\u001b[0m         intermediate_steps,\n\u001b[1;32m    910\u001b[0m         run_manager\u001b[39m=\u001b[39;49mrun_manager,\n\u001b[1;32m    911\u001b[0m     )\n\u001b[1;32m    912\u001b[0m     \u001b[39mif\u001b[39;00m \u001b[39misinstance\u001b[39m(next_step_output, AgentFinish):\n\u001b[1;32m    913\u001b[0m         \u001b[39mreturn\u001b[39;00m \u001b[39mself\u001b[39m\u001b[39m.\u001b[39m_return(\n\u001b[1;32m    914\u001b[0m             next_step_output, intermediate_steps, run_manager\u001b[39m=\u001b[39mrun_manager\n\u001b[1;32m    915\u001b[0m         )\n",
      "File \u001b[0;32m~/miniconda3/lib/python3.8/site-packages/langchain/agents/agent.py:783\u001b[0m, in \u001b[0;36mAgentExecutor._take_next_step\u001b[0;34m(self, name_to_tool_map, color_mapping, inputs, intermediate_steps, run_manager)\u001b[0m\n\u001b[1;32m    781\u001b[0m         tool_run_kwargs[\u001b[39m\"\u001b[39m\u001b[39mllm_prefix\u001b[39m\u001b[39m\"\u001b[39m] \u001b[39m=\u001b[39m \u001b[39m\"\u001b[39m\u001b[39m\"\u001b[39m\n\u001b[1;32m    782\u001b[0m     \u001b[39m# We then call the tool on the tool input to get an observation\u001b[39;00m\n\u001b[0;32m--> 783\u001b[0m     observation \u001b[39m=\u001b[39m tool\u001b[39m.\u001b[39;49mrun(\n\u001b[1;32m    784\u001b[0m         agent_action\u001b[39m.\u001b[39;49mtool_input,\n\u001b[1;32m    785\u001b[0m         verbose\u001b[39m=\u001b[39;49m\u001b[39mself\u001b[39;49m\u001b[39m.\u001b[39;49mverbose,\n\u001b[1;32m    786\u001b[0m         color\u001b[39m=\u001b[39;49mcolor,\n\u001b[1;32m    787\u001b[0m         callbacks\u001b[39m=\u001b[39;49mrun_manager\u001b[39m.\u001b[39;49mget_child() \u001b[39mif\u001b[39;49;00m run_manager \u001b[39melse\u001b[39;49;00m \u001b[39mNone\u001b[39;49;00m,\n\u001b[1;32m    788\u001b[0m         \u001b[39m*\u001b[39;49m\u001b[39m*\u001b[39;49mtool_run_kwargs,\n\u001b[1;32m    789\u001b[0m     )\n\u001b[1;32m    790\u001b[0m \u001b[39melse\u001b[39;00m:\n\u001b[1;32m    791\u001b[0m     tool_run_kwargs \u001b[39m=\u001b[39m \u001b[39mself\u001b[39m\u001b[39m.\u001b[39magent\u001b[39m.\u001b[39mtool_run_logging_kwargs()\n",
      "File \u001b[0;32m~/miniconda3/lib/python3.8/site-packages/langchain/tools/base.py:255\u001b[0m, in \u001b[0;36mBaseTool.run\u001b[0;34m(self, tool_input, verbose, start_color, color, callbacks, **kwargs)\u001b[0m\n\u001b[1;32m    253\u001b[0m \u001b[39mexcept\u001b[39;00m (\u001b[39mException\u001b[39;00m, \u001b[39mKeyboardInterrupt\u001b[39;00m) \u001b[39mas\u001b[39;00m e:\n\u001b[1;32m    254\u001b[0m     run_manager\u001b[39m.\u001b[39mon_tool_error(e)\n\u001b[0;32m--> 255\u001b[0m     \u001b[39mraise\u001b[39;00m e\n\u001b[1;32m    256\u001b[0m run_manager\u001b[39m.\u001b[39mon_tool_end(\u001b[39mstr\u001b[39m(observation), color\u001b[39m=\u001b[39mcolor, name\u001b[39m=\u001b[39m\u001b[39mself\u001b[39m\u001b[39m.\u001b[39mname, \u001b[39m*\u001b[39m\u001b[39m*\u001b[39mkwargs)\n\u001b[1;32m    257\u001b[0m \u001b[39mreturn\u001b[39;00m observation\n",
      "File \u001b[0;32m~/miniconda3/lib/python3.8/site-packages/langchain/tools/base.py:249\u001b[0m, in \u001b[0;36mBaseTool.run\u001b[0;34m(self, tool_input, verbose, start_color, color, callbacks, **kwargs)\u001b[0m\n\u001b[1;32m    246\u001b[0m \u001b[39mtry\u001b[39;00m:\n\u001b[1;32m    247\u001b[0m     tool_args, tool_kwargs \u001b[39m=\u001b[39m \u001b[39mself\u001b[39m\u001b[39m.\u001b[39m_to_args_and_kwargs(parsed_input)\n\u001b[1;32m    248\u001b[0m     observation \u001b[39m=\u001b[39m (\n\u001b[0;32m--> 249\u001b[0m         \u001b[39mself\u001b[39;49m\u001b[39m.\u001b[39;49m_run(\u001b[39m*\u001b[39;49mtool_args, run_manager\u001b[39m=\u001b[39;49mrun_manager, \u001b[39m*\u001b[39;49m\u001b[39m*\u001b[39;49mtool_kwargs)\n\u001b[1;32m    250\u001b[0m         \u001b[39mif\u001b[39;00m new_arg_supported\n\u001b[1;32m    251\u001b[0m         \u001b[39melse\u001b[39;00m \u001b[39mself\u001b[39m\u001b[39m.\u001b[39m_run(\u001b[39m*\u001b[39mtool_args, \u001b[39m*\u001b[39m\u001b[39m*\u001b[39mtool_kwargs)\n\u001b[1;32m    252\u001b[0m     )\n\u001b[1;32m    253\u001b[0m \u001b[39mexcept\u001b[39;00m (\u001b[39mException\u001b[39;00m, \u001b[39mKeyboardInterrupt\u001b[39;00m) \u001b[39mas\u001b[39;00m e:\n\u001b[1;32m    254\u001b[0m     run_manager\u001b[39m.\u001b[39mon_tool_error(e)\n",
      "File \u001b[0;32m~/miniconda3/lib/python3.8/site-packages/langchain/tools/base.py:350\u001b[0m, in \u001b[0;36mTool._run\u001b[0;34m(self, run_manager, *args, **kwargs)\u001b[0m\n\u001b[1;32m    341\u001b[0m \u001b[39m\"\"\"Use the tool.\"\"\"\u001b[39;00m\n\u001b[1;32m    342\u001b[0m new_argument_supported \u001b[39m=\u001b[39m signature(\u001b[39mself\u001b[39m\u001b[39m.\u001b[39mfunc)\u001b[39m.\u001b[39mparameters\u001b[39m.\u001b[39mget(\u001b[39m\"\u001b[39m\u001b[39mcallbacks\u001b[39m\u001b[39m\"\u001b[39m)\n\u001b[1;32m    343\u001b[0m \u001b[39mreturn\u001b[39;00m (\n\u001b[1;32m    344\u001b[0m     \u001b[39mself\u001b[39m\u001b[39m.\u001b[39mfunc(\n\u001b[1;32m    345\u001b[0m         \u001b[39m*\u001b[39margs,\n\u001b[1;32m    346\u001b[0m         callbacks\u001b[39m=\u001b[39mrun_manager\u001b[39m.\u001b[39mget_child() \u001b[39mif\u001b[39;00m run_manager \u001b[39melse\u001b[39;00m \u001b[39mNone\u001b[39;00m,\n\u001b[1;32m    347\u001b[0m         \u001b[39m*\u001b[39m\u001b[39m*\u001b[39mkwargs,\n\u001b[1;32m    348\u001b[0m     )\n\u001b[1;32m    349\u001b[0m     \u001b[39mif\u001b[39;00m new_argument_supported\n\u001b[0;32m--> 350\u001b[0m     \u001b[39melse\u001b[39;00m \u001b[39mself\u001b[39;49m\u001b[39m.\u001b[39;49mfunc(\u001b[39m*\u001b[39;49margs, \u001b[39m*\u001b[39;49m\u001b[39m*\u001b[39;49mkwargs)\n\u001b[1;32m    351\u001b[0m )\n",
      "File \u001b[0;32m~/miniconda3/lib/python3.8/site-packages/langchain/agents/agent_toolkits/openapi/planner.py:247\u001b[0m, in \u001b[0;36m_create_api_controller_tool.<locals>._create_and_run_api_controller_agent\u001b[0;34m(plan_str)\u001b[0m\n\u001b[1;32m    245\u001b[0m     docs \u001b[39m=\u001b[39m endpoint_docs_by_name\u001b[39m.\u001b[39mget(endpoint_name)\n\u001b[1;32m    246\u001b[0m     \u001b[39mif\u001b[39;00m \u001b[39mnot\u001b[39;00m docs:\n\u001b[0;32m--> 247\u001b[0m         \u001b[39mraise\u001b[39;00m \u001b[39mValueError\u001b[39;00m(\u001b[39mf\u001b[39m\u001b[39m\"\u001b[39m\u001b[39m{\u001b[39;00mendpoint_name\u001b[39m}\u001b[39;00m\u001b[39m endpoint does not exist.\u001b[39m\u001b[39m\"\u001b[39m)\n\u001b[1;32m    248\u001b[0m     docs_str \u001b[39m+\u001b[39m\u001b[39m=\u001b[39m \u001b[39mf\u001b[39m\u001b[39m\"\u001b[39m\u001b[39m== Docs for \u001b[39m\u001b[39m{\u001b[39;00mendpoint_name\u001b[39m}\u001b[39;00m\u001b[39m == \u001b[39m\u001b[39m\\n\u001b[39;00m\u001b[39m{\u001b[39;00myaml\u001b[39m.\u001b[39mdump(docs)\u001b[39m}\u001b[39;00m\u001b[39m\\n\u001b[39;00m\u001b[39m\"\u001b[39m\n\u001b[1;32m    250\u001b[0m agent \u001b[39m=\u001b[39m _create_api_controller_agent(base_url, docs_str, requests_wrapper, llm)\n",
      "\u001b[0;31mValueError\u001b[0m: GET /ask endpoint does not exist."
     ]
    }
   ],
   "source": [
    "agent.run(\"Eu preciso fazer alguma coisa pra receber vocês em casa?\")"
   ]
  }
 ],
 "metadata": {
  "kernelspec": {
   "display_name": "base",
   "language": "python",
   "name": "python3"
  },
  "language_info": {
   "codemirror_mode": {
    "name": "ipython",
    "version": 3
   },
   "file_extension": ".py",
   "mimetype": "text/x-python",
   "name": "python",
   "nbconvert_exporter": "python",
   "pygments_lexer": "ipython3",
   "version": "3.8.13"
  },
  "orig_nbformat": 4
 },
 "nbformat": 4,
 "nbformat_minor": 2
}
